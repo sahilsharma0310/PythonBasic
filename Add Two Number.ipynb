{
 "cells": [
  {
   "cell_type": "code",
   "execution_count": 67,
   "metadata": {},
   "outputs": [
    {
     "name": "stdout",
     "output_type": "stream",
     "text": [
      "enter the list1 [4,2,3]\n",
      "enter the list2[6,4,5]\n",
      "[4,2,3] [6,4,5]\n",
      "[3, 2, 4] [5, 4, 6]\n",
      "['3', '2', '4'] ['5', '4', '6']\n",
      "324 546\n",
      "['0', '7', '8']\n"
     ]
    }
   ],
   "source": [
    "list1 = input(\"enter the list1 \")\n",
    "list2 = input(\"enter the list2\")\n",
    "\n",
    "#change string into list\n",
    "#list1 =   list1.split(',')\n",
    "#list2 = list2.split(',')\n",
    "print(list1,list2)\n",
    "\n",
    "from ast import literal_eval\n",
    "list1=literal_eval(list1)\n",
    "list2 =literal_eval(list2)\n",
    "        \n",
    "#change list reverse\n",
    "\n",
    "list1.reverse()\n",
    "list2.reverse()\n",
    "\n",
    "\n",
    "\n",
    "print(list1,list2)\n",
    "\n",
    "\n",
    "#change list of num into string\n",
    "list1 = list(map(str,list1))\n",
    "list2 = list(map(str,list2))  \n",
    "print(list1,list2)\n",
    "\n",
    "str1 = ''.join(list1)\n",
    "str2 = ''.join(list2)\n",
    "\n",
    "print(str1,str2)\n",
    "\n",
    "#adding string\n",
    "x = int(str1) + int(str2)\n",
    "\n",
    "#converting to list\n",
    "\n",
    "x=list(str(x)) \n",
    "x.reverse()\n",
    "print(x\n"
   ]
  },
  {
   "cell_type": "code",
   "execution_count": null,
   "metadata": {},
   "outputs": [],
   "source": []
  }
 ],
 "metadata": {
  "kernelspec": {
   "display_name": "Python 3",
   "language": "python",
   "name": "python3"
  },
  "language_info": {
   "codemirror_mode": {
    "name": "ipython",
    "version": 3
   },
   "file_extension": ".py",
   "mimetype": "text/x-python",
   "name": "python",
   "nbconvert_exporter": "python",
   "pygments_lexer": "ipython3",
   "version": "3.7.3"
  }
 },
 "nbformat": 4,
 "nbformat_minor": 2
}
