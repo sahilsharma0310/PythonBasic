{
 "cells": [
  {
   "cell_type": "code",
   "execution_count": null,
   "metadata": {},
   "outputs": [],
   "source": [
    "import json\n",
    "s= (input(\"enter the list of words\"))\n",
    "k = int(input(\"enter the k\"))\n",
    "\n",
    "s1=s[1:len(s)-1]\n",
    "l1 = s1.split(',')\n",
    "p=[]\n",
    "v=[]\n",
    "for i in l1:\n",
    "    i=i[1:len(i)-1]\n",
    "    p.append(i)\n",
    "print(p)\n",
    "l=p.copy()\n",
    "p=list(set(p))\n",
    "\n",
    "\n",
    "\n",
    "\n",
    "for i in range(len(p)):\n",
    "    v.append(l.count(p[i]))\n",
    "\n",
    "print(v)\n",
    "   \n",
    "dict1 = dict(zip(v,p))\n",
    "\n",
    "\n",
    "z=[]\n",
    "dict1\n",
    "\n",
    "print(dict1)\n",
    "l2 =[]\n",
    "v2=[]\n",
    "for i in range(k):\n",
    "    s=max(v)\n",
    "    l2.append(s)\n",
    "    v2.append(dict1[s])\n",
    "    \n",
    "    v.remove(s)\n",
    "    \n",
    "    \n",
    "   \n",
    "    \n",
    "print(l2,v2)\n",
    "    "
   ]
  },
  {
   "cell_type": "code",
   "execution_count": 31,
   "metadata": {},
   "outputs": [
    {
     "data": {
      "text/plain": [
       "1"
      ]
     },
     "execution_count": 31,
     "metadata": {},
     "output_type": "execute_result"
    }
   ],
   "source": [
    "l = ['aa','a','a']\n",
    "l.count('aa')"
   ]
  },
  {
   "cell_type": "code",
   "execution_count": 38,
   "metadata": {},
   "outputs": [
    {
     "data": {
      "text/plain": [
       "{2: 'b', 3: 'c'}"
      ]
     },
     "execution_count": 38,
     "metadata": {},
     "output_type": "execute_result"
    }
   ],
   "source": [
    "dict1"
   ]
  },
  {
   "cell_type": "code",
   "execution_count": null,
   "metadata": {},
   "outputs": [],
   "source": []
  }
 ],
 "metadata": {
  "kernelspec": {
   "display_name": "Python 3",
   "language": "python",
   "name": "python3"
  },
  "language_info": {
   "codemirror_mode": {
    "name": "ipython",
    "version": 3
   },
   "file_extension": ".py",
   "mimetype": "text/x-python",
   "name": "python",
   "nbconvert_exporter": "python",
   "pygments_lexer": "ipython3",
   "version": "3.7.3"
  }
 },
 "nbformat": 4,
 "nbformat_minor": 2
}
