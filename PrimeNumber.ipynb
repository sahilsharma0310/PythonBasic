{
 "cells": [
  {
   "cell_type": "code",
   "execution_count": 1,
   "metadata": {},
   "outputs": [
    {
     "name": "stdout",
     "output_type": "stream",
     "text": [
      "Enter any number: 28\n",
      "28  is not a prime number\n"
     ]
    }
   ],
   "source": [
    "input_num = int(input('Enter any number: '))\n",
    "\n",
    "\n",
    "def prime(num):\n",
    "    for i in range(2, num):\n",
    "        if num == 2:\n",
    "            print(num, '2 is a prime number')\n",
    "            return\n",
    "        if (num % i) == 0:\n",
    "            print(num, ' is not a prime number')\n",
    "            return\n",
    "    print(num, ' is a prime number')\n",
    "\n",
    "\n",
    "prime(input_num)"
   ]
  },
  {
   "cell_type": "code",
   "execution_count": null,
   "metadata": {},
   "outputs": [],
   "source": []
  }
 ],
 "metadata": {
  "kernelspec": {
   "display_name": "Python 3",
   "language": "python",
   "name": "python3"
  },
  "language_info": {
   "codemirror_mode": {
    "name": "ipython",
    "version": 3
   },
   "file_extension": ".py",
   "mimetype": "text/x-python",
   "name": "python",
   "nbconvert_exporter": "python",
   "pygments_lexer": "ipython3",
   "version": "3.7.3"
  }
 },
 "nbformat": 4,
 "nbformat_minor": 2
}
