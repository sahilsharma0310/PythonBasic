{
 "cells": [
  {
   "cell_type": "code",
   "execution_count": 15,
   "metadata": {},
   "outputs": [
    {
     "name": "stdout",
     "output_type": "stream",
     "text": [
      "enter the list[1,1,1,1,2,3,3]\n",
      "enter the k2\n",
      "[4, 2]\n"
     ]
    }
   ],
   "source": [
    "import json\n",
    "str= input(\"enter the list\")\n",
    "k = int(input(\"enter the k\"))\n",
    "\n",
    "l = json.loads(str)\n",
    "p=list(set(l))\n",
    "v =[]\n",
    "for i in range(len(p)):\n",
    "    v.append(l.count(p[i]))\n",
    "dict1 = dict(zip(v,p))\n",
    "dict1\n",
    "z=[]\n",
    "dict1\n",
    "l2 =[]\n",
    "for i in range(k):\n",
    "    s=max(v) \n",
    "    l2.append(s)\n",
    "    \n",
    "    v.remove(s)\n",
    "   \n",
    "    \n",
    "print(l2)\n",
    "    \n",
    "    \n"
   ]
  },
  {
   "cell_type": "code",
   "execution_count": null,
   "metadata": {},
   "outputs": [],
   "source": [
    "\n"
   ]
  },
  {
   "cell_type": "code",
   "execution_count": null,
   "metadata": {},
   "outputs": [],
   "source": []
  }
 ],
 "metadata": {
  "kernelspec": {
   "display_name": "Python 3",
   "language": "python",
   "name": "python3"
  }
 },
 "nbformat": 4,
 "nbformat_minor": 2
}
