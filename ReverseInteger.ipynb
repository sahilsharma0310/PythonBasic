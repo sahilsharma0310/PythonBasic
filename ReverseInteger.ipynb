{
 "cells": [
  {
   "cell_type": "code",
   "execution_count": 15,
   "metadata": {},
   "outputs": [
    {
     "name": "stdout",
     "output_type": "stream",
     "text": [
      "enter the number-23\n",
      "Reverse number is -32\n"
     ]
    }
   ],
   "source": [
    "num1 = int(input(\"Enter the number\"))\n",
    "#print(num1)\n",
    "fn(num1)\n",
    "def fn(num1):\n",
    "    \n",
    "    s=str(num1)\n",
    "    if num1 > 0 :\n",
    "        l=list(s)\n",
    "        l.reverse()\n",
    "        i =int(''.join(l))\n",
    "        print(\"Reverse number is {}\".format(i))\n",
    "    else:\n",
    "        l=list(s)\n",
    "        l = l[1:]\n",
    "        l.reverse()\n",
    "        j =int(''.join(l))\n",
    "        i = -j\n",
    "        print(\"Reverse number is {}\".format(i))\n",
    "    \n",
    "    \n",
    "    \n",
    "\n",
    "\n",
    "\n",
    " "
   ]
  },
  {
   "cell_type": "code",
   "execution_count": null,
   "metadata": {},
   "outputs": [],
   "source": []
  }
 ],
 "metadata": {
  "kernelspec": {
   "display_name": "Python 3",
   "language": "python",
   "name": "python3"
  },
  "language_info": {
   "codemirror_mode": {
    "name": "ipython",
    "version": 3
   },
   "file_extension": ".py",
   "mimetype": "text/x-python",
   "name": "python",
   "nbconvert_exporter": "python",
   "pygments_lexer": "ipython3",
   "version": "3.7.3"
  }
 },
 "nbformat": 4,
 "nbformat_minor": 2
}
