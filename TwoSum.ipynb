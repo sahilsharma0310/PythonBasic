{
 "cells": [
  {
   "cell_type": "code",
   "execution_count": 3,
   "metadata": {},
   "outputs": [
    {
     "name": "stdout",
     "output_type": "stream",
     "text": [
      "[[1, 1], [0, 2]]\n"
     ]
    }
   ],
   "source": [
    "def sumnum(list1,num):\n",
    "    \n",
    "\n",
    "    k = 0\n",
    "    list2 = []\n",
    "    list3 = []\n",
    "    for i in range(len(list1)):\n",
    "            for j in range( len(list1)):\n",
    "               # print(list1[i] ,\"  \" ,list1[j])\n",
    "\n",
    "                k = list1[i] +list1[j]\n",
    "\n",
    "                if k == num:\n",
    "                    #print(\"sum of {},{} is  {}, with index {},{}\".format(list1[i],list1[j],num,i,j))\n",
    "                    list2.append(i)\n",
    "                    list2.append(j)\n",
    "                    list4 = list2.copy()\n",
    "                    list3.append(list4)\n",
    "                    list2.clear()\n",
    "                    break\n",
    "\n",
    "    for i in range(len(list3)):\n",
    "        list3[i].sort()\n",
    "\n",
    "    result  =[ list(x) for x  in  set(tuple(x) for x in list3)]\n",
    "    print(result)\n",
    "sumnum([1,2,3,4],4)"
   ]
  },
  {
   "cell_type": "code",
   "execution_count": 2,
   "metadata": {},
   "outputs": [
    {
     "name": "stdout",
     "output_type": "stream",
     "text": [
      "[[1, 1], [0, 2]]\n"
     ]
    }
   ],
   "source": []
  },
  {
   "cell_type": "code",
   "execution_count": null,
   "metadata": {},
   "outputs": [],
   "source": []
  }
 ],
 "metadata": {
  "kernelspec": {
   "display_name": "Python 3",
   "language": "python",
   "name": "python3"
  },
  "language_info": {
   "codemirror_mode": {
    "name": "ipython",
    "version": 3
   },
   "file_extension": ".py",
   "mimetype": "text/x-python",
   "name": "python",
   "nbconvert_exporter": "python",
   "pygments_lexer": "ipython3",
   "version": "3.7.3"
  }
 },
 "nbformat": 4,
 "nbformat_minor": 2
}
