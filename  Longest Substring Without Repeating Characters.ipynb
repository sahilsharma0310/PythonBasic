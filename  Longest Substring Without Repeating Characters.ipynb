{
 "cells": [
  {
   "cell_type": "code",
   "execution_count": 99,
   "metadata": {},
   "outputs": [
    {
     "name": "stdout",
     "output_type": "stream",
     "text": [
      "['s']\n",
      "['s', 'a']\n",
      "['s', 'a', 'h']\n",
      "['s', 'a', 'h', 'i']\n",
      "['s', 'a', 'h', 'i', 'l']\n",
      "['a', 'h', 'i', 'l']\n",
      "['a', 'h', 'i', 'l', 's']\n",
      "['h', 'i', 'l', 's']\n",
      "['h', 'i', 'l', 's', 'a']\n",
      "['s', 'a']\n",
      "['s', 'a', 'l']\n",
      "['s', 'a', 'l', 'p']\n",
      "['s', 'a', 'l', 'p', 't']\n",
      "['s', 'a', 'l', 'p', 't', 'q']\n"
     ]
    },
    {
     "data": {
      "text/plain": [
       "(6, ['s', 'a', 'l', 'p', 't', 'q'])"
      ]
     },
     "execution_count": 99,
     "metadata": {},
     "output_type": "execute_result"
    }
   ],
   "source": [
    "def lengthOfLongestSubstring(self, s):\n",
    "    \"\"\"\n",
    "    :type s: str\n",
    "    :rtype: int\n",
    "    \"\"\"\n",
    "    \n",
    "    str_list = []\n",
    "    max_length = 0\n",
    "    \n",
    "    for x in s:\n",
    "        if x in str_list:\n",
    "            str_list = str_list[str_list.index(x)+1:]\n",
    "            print(str_list)\n",
    "            \n",
    "        str_list.append(x)   \n",
    "        print(str_list)\n",
    "        \n",
    "        max_length = max(max_length, len(str_list))\n",
    "        \n",
    "    return max_length ,str_list\n",
    "lengthOfLongestSubstring(\"\",\"sahilsalptq\")"
   ]
  },
  {
   "cell_type": "code",
   "execution_count": 97,
   "metadata": {},
   "outputs": [
    {
     "name": "stdout",
     "output_type": "stream",
     "text": [
      "['s']\n",
      "['s', 'a']\n",
      "['s', 'a', 'h']\n",
      "['s', 'a', 'h', 'i']\n",
      "['s', 'a', 'h', 'i', 'l']\n",
      "['a', 'h', 'i', 'l']\n",
      "['a', 'h', 'i', 'l', 's']\n",
      "['h', 'i', 'l', 's']\n",
      "['h', 'i', 'l', 's', 'a']\n",
      "['s', 'a']\n",
      "['s', 'a', 'l']\n",
      "['s', 'a', 'l', 'p']\n",
      "['s', 'a', 'l', 'p', 't']\n",
      "['s', 'a', 'l', 'p', 't', 'q']\n"
     ]
    },
    {
     "data": {
      "text/plain": [
       "(6, ['s', 'a', 'l', 'p', 't', 'q'])"
      ]
     },
     "execution_count": 97,
     "metadata": {},
     "output_type": "execute_result"
    }
   ],
   "source": []
  },
  {
   "cell_type": "code",
   "execution_count": 102,
   "metadata": {},
   "outputs": [
    {
     "data": {
      "text/plain": [
       "90"
      ]
     },
     "execution_count": 102,
     "metadata": {},
     "output_type": "execute_result"
    }
   ],
   "source": [
    "max(90,45)"
   ]
  },
  {
   "cell_type": "code",
   "execution_count": null,
   "metadata": {},
   "outputs": [],
   "source": []
  }
 ],
 "metadata": {
  "kernelspec": {
   "display_name": "Python 3",
   "language": "python",
   "name": "python3"
  },
  "language_info": {
   "codemirror_mode": {
    "name": "ipython",
    "version": 3
   },
   "file_extension": ".py",
   "mimetype": "text/x-python",
   "name": "python",
   "nbconvert_exporter": "python",
   "pygments_lexer": "ipython3",
   "version": "3.7.3"
  }
 },
 "nbformat": 4,
 "nbformat_minor": 2
}
