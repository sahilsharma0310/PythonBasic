{
 "cells": [
  {
   "cell_type": "code",
   "execution_count": 4,
   "metadata": {},
   "outputs": [
    {
     "data": {
      "text/plain": [
       "2.5"
      ]
     },
     "execution_count": 4,
     "metadata": {},
     "output_type": "execute_result"
    }
   ],
   "source": [
    "\n",
    "from statistics import median\n",
    "a1 = [1,2]\n",
    "a2 = [3,4]\n",
    "\n",
    "a=a1+ a2\n",
    "median(a)"
   ]
  },
  {
   "cell_type": "code",
   "execution_count": 39,
   "metadata": {},
   "outputs": [
    {
     "name": "stdout",
     "output_type": "stream",
     "text": [
      "enter the array 11,2,3\n",
      "enter the array 24,5\n",
      "[1, 2, 3, 4, 5]\n",
      "3.0\n"
     ]
    }
   ],
   "source": [
    "list1 = input(\"enter the array 1\")\n",
    "list2 = input(\"enter the array 2\")\n",
    "list1 = list1.split(',')\n",
    "list2 =list2.split(',')\n",
    "\n",
    "nums = list1 + list2\n",
    "nums.sort()\n",
    "nums =list(map(int,nums))\n",
    "print(nums)\n",
    "def fn(nums):\n",
    "    if (len(nums) % 2 != 0):\n",
    "        median = float(nums[int(len(nums)//2)  ] )\n",
    "    else:\n",
    "        median=float(nums[int(len(nums)//2)   ] + nums[int(len(nums)//2 -1)])/2\n",
    "                       \n",
    "                       \n",
    "    return median\n",
    "print(fn(nums))\n",
    "                   "
   ]
  },
  {
   "cell_type": "code",
   "execution_count": null,
   "metadata": {},
   "outputs": [],
   "source": []
  }
 ],
 "metadata": {
  "kernelspec": {
   "display_name": "Python 3",
   "language": "python",
   "name": "python3"
  },
  "language_info": {
   "codemirror_mode": {
    "name": "ipython",
    "version": 3
   },
   "file_extension": ".py",
   "mimetype": "text/x-python",
   "name": "python",
   "nbconvert_exporter": "python",
   "pygments_lexer": "ipython3",
   "version": "3.7.3"
  }
 },
 "nbformat": 4,
 "nbformat_minor": 2
}
